{
 "cells": [
  {
   "cell_type": "code",
   "execution_count": 23,
   "id": "b6a2e209",
   "metadata": {},
   "outputs": [
    {
     "name": "stdout",
     "output_type": "stream",
     "text": [
      "Xin chào Mr. Nguyễn\n",
      "Tên in trên vé của bạn là Nguyễn Văn A\n"
     ]
    }
   ],
   "source": [
    "def welcome(first_name, middle_name, last_name, title):\n",
    "    fullname = f\"{first_name} {middle_name} {last_name}\"\n",
    "    \n",
    "    \n",
    "    print(f\"Xin chào {title} {first_name}\")\n",
    "    print(f\"Tên in trên vé của bạn là {fullname}\")\n",
    "\n",
    "welcome(\"Nguyễn\", \"Văn\", \"A\", \"Mr.\")"
   ]
  },
  {
   "cell_type": "code",
   "execution_count": 20,
   "id": "59185c23",
   "metadata": {},
   "outputs": [
    {
     "name": "stdout",
     "output_type": "stream",
     "text": [
      "Xin chào Mr. Nguyễn\n",
      "Tên in trên vé của bạn là, Nguyễn Văn A\n",
      "Số ghế của bạn là 100\n",
      "Xin chào Mr. Trần\n",
      "Tên in trên vé của bạn là, Trần Văn B\n",
      "Số ghế của bạn là 101\n"
     ]
    }
   ],
   "source": [
    "seat_no = 99\n",
    "def welcome(first_name, middle_name, last_name, title):\n",
    "    global seat_no\n",
    "    fullname = f\"{first_name} {middle_name} {last_name}\"\n",
    "    seat_no += 1\n",
    "    \n",
    "    print(f\"Xin chào {title} {first_name}\")\n",
    "    print(f\"Tên in trên vé của bạn là, {fullname}\")\n",
    "    print(f\"Số ghế của bạn là {seat_no}\")\n",
    "    \n",
    "welcome(\"Nguyễn\", \"Văn\", \"A\", \"Mr.\")\n",
    "welcome(\"Trần\", \"Văn\", \"B\", \"Mr.\")"
   ]
  },
  {
   "cell_type": "code",
   "execution_count": 22,
   "id": "a6b2ec1e",
   "metadata": {},
   "outputs": [
    {
     "name": "stdout",
     "output_type": "stream",
     "text": [
      "Xin chào Mr. Nguyễn\n",
      "Tên in trên vé của bạn là, Nguyễn Văn A\n",
      "Số ghế của bạn là 100\n",
      "Bạn năm nay 21 tuổi\n",
      "Xin chào Mr. Trần\n",
      "Tên in trên vé của bạn là, Trần Văn B\n",
      "Số ghế của bạn là 101\n",
      "Bạn năm nay 23 tuổi\n"
     ]
    }
   ],
   "source": [
    "seat_no = 99\n",
    "def welcome(first_name, middle_name, last_name, title, year_of_birth):\n",
    "    global seat_no\n",
    "    fullname = f\"{first_name} {middle_name} {last_name}\"\n",
    "    seat_no += 1\n",
    "    age = 2023 - year_of_birth\n",
    "    \n",
    "    print(f\"Xin chào {title} {first_name}\")\n",
    "    print(f\"Tên in trên vé của bạn là, {fullname}\")\n",
    "    print(f\"Số ghế của bạn là {seat_no}\")\n",
    "    print(f\"Bạn năm nay {age} tuổi\")\n",
    "    \n",
    "welcome(\"Nguyễn\", \"Văn\", \"A\", \"Mr.\", 2002)\n",
    "welcome(\"Trần\", \"Văn\", \"B\", \"Mr.\", 2000)"
   ]
  }
 ],
 "metadata": {
  "kernelspec": {
   "display_name": "Python 3 (ipykernel)",
   "language": "python",
   "name": "python3"
  },
  "language_info": {
   "codemirror_mode": {
    "name": "ipython",
    "version": 3
   },
   "file_extension": ".py",
   "mimetype": "text/x-python",
   "name": "python",
   "nbconvert_exporter": "python",
   "pygments_lexer": "ipython3",
   "version": "3.10.9"
  }
 },
 "nbformat": 4,
 "nbformat_minor": 5
}
