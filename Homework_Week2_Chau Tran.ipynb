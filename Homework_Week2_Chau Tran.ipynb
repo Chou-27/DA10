{
 "cells": [
  {
   "cell_type": "code",
   "execution_count": 42,
   "id": "42cfe46d",
   "metadata": {},
   "outputs": [
    {
     "name": "stdout",
     "output_type": "stream",
     "text": [
      "Không thực hiện mua hay bán cổ phiếu\n",
      "Mua cổ phiếu\n",
      "Không thực hiện mua hay bán cổ phiếu\n",
      "Không thực hiện mua hay bán cổ phiếu\n",
      "Không thực hiện mua hay bán cổ phiếu\n",
      "Không thực hiện mua hay bán cổ phiếu\n",
      "Không thực hiện mua hay bán cổ phiếu\n"
     ]
    }
   ],
   "source": [
    "gia_theo_ngay = [10.1, 9.5, 10.7, 10.8, 10.6, 10.0, 10.2, 9.5]\n",
    "\n",
    "for i in range(len(gia_theo_ngay)-1):\n",
    "    if (gia_theo_ngay[i] - gia_theo_ngay[i+1]) / gia_theo_ngay[i] >= 0.07:\n",
    "        print (\"Bán cổ phiếu\")\n",
    "    elif (gia_theo_ngay[i] - gia_theo_ngay[i+1]) / gia_theo_ngay[i] <= -0.05:\n",
    "        print (\"Mua cổ phiếu\")\n",
    "    else : print(\"Không thực hiện mua hay bán cổ phiếu\") "
   ]
  },
  {
   "cell_type": "code",
   "execution_count": 39,
   "id": "c7c7fd3b",
   "metadata": {},
   "outputs": [
    {
     "name": "stdout",
     "output_type": "stream",
     "text": [
      "Nhập số nguyên dương n= 25\n",
      "Là số nguyên tố\n",
      "Là số nguyên tố\n",
      "Là số nguyên tố\n",
      "Không phải là số nguyên tố\n"
     ]
    }
   ],
   "source": [
    "n = int(input(\"Nhập số nguyên dương n= \"))\n",
    "\n",
    "if n <= 1:\n",
    "    print (\"Không phải là số nguyên tố\")\n",
    "else:\n",
    "    for i in range(2, n//2 + 1):\n",
    "        if n % i ==0:\n",
    "            print (\"Không phải là số nguyên tố\")\n",
    "            break\n",
    "        else: print(\"Là số nguyên tố\")\n",
    "        "
   ]
  },
  {
   "cell_type": "code",
   "execution_count": 19,
   "id": "a9a70a63",
   "metadata": {},
   "outputs": [
    {
     "name": "stdout",
     "output_type": "stream",
     "text": [
      "Nhập số tiền lương trong tháng: 20000000\n",
      "Nhập số tiền phụ cấp trong tháng:0\n",
      "BHXH nhân viên phải đóng:  2100000.0\n",
      "Thuế TNCN là:  690000.0\n"
     ]
    }
   ],
   "source": [
    "gross_salary = int(input(\"Nhập số tiền lương trong tháng: \"))\n",
    "allowance = int(input(\"Nhập số tiền phụ cấp trong tháng:\"))\n",
    "\n",
    "\n",
    "Cap_salary_for_SHI = 1800000*20\n",
    "Cap_salary_for_UI = 4680000*20\n",
    "\n",
    "if gross_salary > Cap_salary_for_SHI and gross_salary > Cap_salary_for_UI :\n",
    "    SI = Cap_salary_for_SHI * 0.08\n",
    "    HI = Cap_salary_for_SHI * 0.015\n",
    "    UI = Cap_salary_for_UI * 0.01\n",
    "elif gross_salary > Cap_salary_for_SHI and gross_salary < Cap_salary_for_UI :\n",
    "    SI = Cap_salary_for_SHI * 0.08\n",
    "    HI = Cap_salary_for_SHI * 0.015\n",
    "    UI = gross_salary * 0.01\n",
    "elif gross_salary < Cap_salary_for_SHI and gross_salary > Cap_salary_for_UI :\n",
    "    SI = gross_salary * 0.08\n",
    "    HI = gross_salary * 0.015\n",
    "    UI = Cap_salary_for_UI * 0.01\n",
    "else :\n",
    "    SI = gross_salary * 0.08\n",
    "    HI = gross_salary * 0.015\n",
    "    UI = gross_salary * 0.01\n",
    "    \n",
    "    SHUI = SI + HI + UI\n",
    "\n",
    "    print (\"BHXH nhân viên phải đóng: \",SHUI)\n",
    "\n",
    "\n",
    "Assessable_income = gross_salary + allowance\n",
    "\n",
    "Personal_deuction = 11000000\n",
    "\n",
    "Taxable_income = Assessable_income - Personal_deuction - SHUI\n",
    "\n",
    "if Taxable_income < 0 :\n",
    "    print (\"Không chịu thuế TNCN\")\n",
    "else :\n",
    "    PIT = Taxable_income * 0.1\n",
    "    print(\"Thuế TNCN là: \", PIT)"
   ]
  },
  {
   "cell_type": "code",
   "execution_count": null,
   "id": "82b70b12",
   "metadata": {},
   "outputs": [],
   "source": []
  }
 ],
 "metadata": {
  "kernelspec": {
   "display_name": "Python 3 (ipykernel)",
   "language": "python",
   "name": "python3"
  },
  "language_info": {
   "codemirror_mode": {
    "name": "ipython",
    "version": 3
   },
   "file_extension": ".py",
   "mimetype": "text/x-python",
   "name": "python",
   "nbconvert_exporter": "python",
   "pygments_lexer": "ipython3",
   "version": "3.10.9"
  }
 },
 "nbformat": 4,
 "nbformat_minor": 5
}
