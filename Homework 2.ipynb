{
 "cells": [
  {
   "cell_type": "code",
   "execution_count": 1,
   "id": "da13807b",
   "metadata": {},
   "outputs": [
    {
     "name": "stdout",
     "output_type": "stream",
     "text": [
      "Nhập cân nặng của bạn:48\n",
      "Nhập chiều cao của bạn:1.61\n",
      "Chỉ số bmi của bạn là: 0.0006987847222222223\n"
     ]
    }
   ],
   "source": [
    "height = float(input(\"Nhập cân nặng của bạn:\"))\n",
    "weight = float(input(\"Nhập chiều cao của bạn:\"))\n",
    "\n",
    "bmi = weight / (height**2)\n",
    "\n",
    "print(\"Chỉ số BMI của bạn là:\", bmi)"
   ]
  }
 ],
 "metadata": {
  "kernelspec": {
   "display_name": "Python 3 (ipykernel)",
   "language": "python",
   "name": "python3"
  },
  "language_info": {
   "codemirror_mode": {
    "name": "ipython",
    "version": 3
   },
   "file_extension": ".py",
   "mimetype": "text/x-python",
   "name": "python",
   "nbconvert_exporter": "python",
   "pygments_lexer": "ipython3",
   "version": "3.10.9"
  }
 },
 "nbformat": 4,
 "nbformat_minor": 5
}
